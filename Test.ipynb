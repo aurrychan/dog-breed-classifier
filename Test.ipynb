{
  "nbformat": 4,
  "nbformat_minor": 0,
  "metadata": {
    "accelerator": "GPU",
    "colab": {
      "name": "Test.ipynb",
      "provenance": [],
      "collapsed_sections": [],
      "authorship_tag": "ABX9TyMtHj7Rj2vrirVt9Gmy2tO2",
      "include_colab_link": true
    },
    "kernelspec": {
      "display_name": "Python 3",
      "name": "python3"
    }
  },
  "cells": [
    {
      "cell_type": "markdown",
      "metadata": {
        "id": "view-in-github",
        "colab_type": "text"
      },
      "source": [
        "<a href=\"https://colab.research.google.com/github/aurrychan/dog-breed-classifier/blob/main/Test.ipynb\" target=\"_parent\"><img src=\"https://colab.research.google.com/assets/colab-badge.svg\" alt=\"Open In Colab\"/></a>"
      ]
    },
    {
      "cell_type": "code",
      "metadata": {
        "colab": {
          "base_uri": "https://localhost:8080/"
        },
        "id": "CiRdvtVOXpbX",
        "outputId": "e08f2cc5-2e18-48cd-8028-039dfc1dc17f"
      },
      "source": [
        "from google.colab import drive\n",
        "drive.mount('/content/gdrive')"
      ],
      "execution_count": null,
      "outputs": [
        {
          "output_type": "stream",
          "text": [
            "Mounted at /content/gdrive\n"
          ],
          "name": "stdout"
        }
      ]
    },
    {
      "cell_type": "code",
      "metadata": {
        "id": "rTktvKuiXzwN"
      },
      "source": [
        "import os\n",
        "os.environ['KAGGLE_CONFIG_DIR'] = \"/content/gdrive/My Drive/Kaggle\"\n",
        "# /content/gdrive/My Drive/Kaggle is the path where kaggle.json is present in the Google Drive"
      ],
      "execution_count": null,
      "outputs": []
    },
    {
      "cell_type": "code",
      "metadata": {
        "colab": {
          "base_uri": "https://localhost:8080/"
        },
        "id": "wAb-mu4dX5DR",
        "outputId": "610b1c6e-7faa-4945-d32d-151eba2f5972"
      },
      "source": [
        "#changing the working directory\n",
        "%cd /content/gdrive/My Drive/Kaggle\n",
        "#Check the present working directory using pwd command\n",
        "!pwd"
      ],
      "execution_count": null,
      "outputs": [
        {
          "output_type": "stream",
          "text": [
            "/content/gdrive/My Drive/Kaggle\n",
            "/content/gdrive/My Drive/Kaggle\n"
          ],
          "name": "stdout"
        }
      ]
    },
    {
      "cell_type": "code",
      "metadata": {
        "id": "zxuk5vGD6cwD"
      },
      "source": [
        "import pandas as pd\n",
        "import numpy as np \n",
        "import matplotlib.pyplot as plt\n",
        "import os\n",
        "import shutil\n",
        "from urllib.request import urlopen,urlretrieve\n",
        "from PIL import Image\n",
        "from tqdm import tqdm_notebook\n",
        "%matplotlib inline\n",
        "from sklearn.utils import shuffle\n",
        "import cv2\n",
        "\n",
        "import tensorflow as tf\n",
        "\n",
        "from keras.models import load_model\n",
        "from sklearn.datasets import load_files   \n",
        "from keras.utils import np_utils\n",
        "from glob import glob\n",
        "from keras import applications\n",
        "from keras import optimizers\n",
        "from keras.models import Sequential,Model,load_model\n",
        "from keras.layers import Dense, Dropout, Flatten, Conv2D, MaxPool2D,GlobalAveragePooling2D\n",
        "from keras.callbacks import TensorBoard,ReduceLROnPlateau,ModelCheckpoint\n"
      ],
      "execution_count": 335,
      "outputs": []
    },
    {
      "cell_type": "code",
      "metadata": {
        "colab": {
          "base_uri": "https://localhost:8080/"
        },
        "id": "5Z6VCFUr58hE",
        "outputId": "e7e0853e-e8e1-44d4-8cdd-e2fadd38035b"
      },
      "source": [
        "from tensorflow.python.keras.preprocessing.image import ImageDataGenerator\n",
        "from tensorflow.keras.preprocessing import image_dataset_from_directory\n",
        "from keras.applications.resnet import ResNet50\n",
        "\n",
        "#data_generator = ImageDataGenerator(preprocessing_function=preprocess_input)\n",
        "\n",
        "batch_size = 10\n",
        "img_height = 224\n",
        "img_width = 224\n",
        "\n",
        "data_dir = '/content/gdrive/My Drive/Kaggle/test/new_train'\n",
        "\n",
        "train_ds = image_dataset_from_directory(    \n",
        "  data_dir,\n",
        "  validation_split=0.2,\n",
        "  subset=\"training\", \n",
        "  shuffle=True, \n",
        "  seed=123,\n",
        "  label_mode = \"categorical\", \n",
        "  image_size=(img_height, img_width),\n",
        "  batch_size=batch_size)\n",
        "\n",
        "val_ds = image_dataset_from_directory(\n",
        "  data_dir,\n",
        "  validation_split=0.2,\n",
        "  subset=\"validation\", \n",
        "  shuffle=True,\n",
        "  seed=123,\n",
        "  label_mode = \"categorical\" ,\n",
        "  image_size=(img_height, img_width),\n",
        "  batch_size=batch_size)\n",
        "\n",
        "class_names = train_ds.class_names\n",
        "print(class_names) "
      ],
      "execution_count": 364,
      "outputs": [
        {
          "output_type": "stream",
          "text": [
            "Found 841 files belonging to 10 classes.\n",
            "Using 673 files for training.\n",
            "Found 841 files belonging to 10 classes.\n",
            "Using 168 files for validation.\n",
            "['beagle', 'chihuahua', 'doberman', 'french_bulldog', 'golden_retriever', 'malamute', 'pug', 'saint_bernard', 'scottish_deerhound', 'tibetan_mastiff']\n",
            "['beagle', 'chihuahua', 'doberman', 'french_bulldog', 'golden_retriever', 'malamute', 'pug', 'saint_bernard', 'scottish_deerhound', 'tibetan_mastiff']\n"
          ],
          "name": "stdout"
        }
      ]
    },
    {
      "cell_type": "code",
      "metadata": {
        "id": "kV_OZ97o-xCO"
      },
      "source": [
        "from tensorflow.data import AUTOTUNE\n",
        "\n",
        "train_ds = train_ds.cache().shuffle(1000).prefetch(buffer_size=AUTOTUNE)\n",
        "val_ds = val_ds.cache().prefetch(buffer_size=AUTOTUNE)"
      ],
      "execution_count": 337,
      "outputs": []
    },
    {
      "cell_type": "code",
      "metadata": {
        "colab": {
          "base_uri": "https://localhost:8080/"
        },
        "id": "IXGsNIeU-08u",
        "outputId": "348acd1c-3fa3-463b-9058-fb69ec7115f0"
      },
      "source": [
        "for image_batch, labels_batch in train_ds:\n",
        "  print(image_batch.shape)\n",
        "  print(labels_batch.shape)\n",
        "  break"
      ],
      "execution_count": 338,
      "outputs": [
        {
          "output_type": "stream",
          "text": [
            "(10, 224, 224, 3)\n",
            "(10, 10)\n"
          ],
          "name": "stdout"
        }
      ]
    },
    {
      "cell_type": "code",
      "metadata": {
        "id": "BhM1ZV8b-4h1"
      },
      "source": [
        "from tensorflow.keras.layers.experimental.preprocessing import RandomFlip, RandomRotation, RandomZoom, RandomContrast, RandomCrop\n",
        "\n",
        "data_augmentation = Sequential(\n",
        "  [\n",
        "    RandomFlip(\"horizontal\", input_shape=(img_height, img_width, 3)),   \n",
        "    RandomRotation(0.1),\n",
        "    RandomZoom(0.1),\n",
        "    RandomContrast(0.1)\n",
        "  ]\n",
        ")"
      ],
      "execution_count": 339,
      "outputs": []
    },
    {
      "cell_type": "code",
      "metadata": {
        "colab": {
          "base_uri": "https://localhost:8080/"
        },
        "id": "V3AlPDSF-8oR",
        "outputId": "a93da077-af74-4928-d99e-d6dc72cc7bf5"
      },
      "source": [
        "from tensorflow.python.keras.applications.resnet import ResNet50\n",
        "from tensorflow.python.keras.models import Sequential\n",
        "from tensorflow.keras.layers.experimental.preprocessing import Rescaling\n",
        "from tensorflow.keras import layers\n",
        "\n",
        "num_classes = 10\n",
        "\n",
        "my_new_model = Sequential(data_augmentation)                                               \n",
        "                          \n",
        "#my_new_model.add(Dropout(0.1))\n",
        "my_new_model.add(ResNet50(include_top=False, pooling='avg', weights='imagenet'))\n",
        "my_new_model.add(Dropout(0.2))\n",
        "my_new_model.add(Dense(128, activation='relu'))\n",
        "my_new_model.add(Dense(num_classes, activation='softmax'))\n",
        "\n",
        "# Say not to train first layer (ResNet) model. It is already trained\n",
        "my_new_model.layers[1].trainable = False\n",
        "\n",
        "my_new_model.compile(optimizer='adam', loss='categorical_crossentropy', metrics=['accuracy'])\n",
        "\n",
        "print(my_new_model.summary())"
      ],
      "execution_count": 340,
      "outputs": [
        {
          "output_type": "stream",
          "text": [
            "Model: \"sequential_83\"\n",
            "_________________________________________________________________\n",
            "Layer (type)                 Output Shape              Param #   \n",
            "=================================================================\n",
            "sequential_82 (Sequential)   (None, 224, 224, 3)       0         \n",
            "_________________________________________________________________\n",
            "resnet50 (Functional)        (None, 2048)              23587712  \n",
            "_________________________________________________________________\n",
            "dropout_40 (Dropout)         (None, 2048)              0         \n",
            "_________________________________________________________________\n",
            "dense_55 (Dense)             (None, 128)               262272    \n",
            "_________________________________________________________________\n",
            "dense_56 (Dense)             (None, 10)                1290      \n",
            "=================================================================\n",
            "Total params: 23,851,274\n",
            "Trainable params: 263,562\n",
            "Non-trainable params: 23,587,712\n",
            "_________________________________________________________________\n",
            "None\n"
          ],
          "name": "stdout"
        }
      ]
    },
    {
      "cell_type": "code",
      "metadata": {
        "id": "F-SnqShTAWZF"
      },
      "source": [
        "checkpoint = tf.keras.callbacks.ModelCheckpoint('./model_augmented.h5', save_best_only=True, monitor='val_loss', mode='min')\n",
        "reduce_lr = ReduceLROnPlateau(monitor='val_loss', factor=0.8, patience=5, min_lr=0.001)"
      ],
      "execution_count": 341,
      "outputs": []
    },
    {
      "cell_type": "code",
      "metadata": {
        "colab": {
          "base_uri": "https://localhost:8080/"
        },
        "id": "Gz-otuX1AM2k",
        "outputId": "0575c6fe-23e3-4b91-d563-5709940d1eb7"
      },
      "source": [
        "epochs = 50\n",
        "\n",
        "history = my_new_model.fit(\n",
        "  x = train_ds,\n",
        "  validation_data=val_ds,\n",
        "  callbacks=[checkpoint, reduce_lr],\n",
        "  batch_size = 10,\n",
        "  epochs=epochs\n",
        ")"
      ],
      "execution_count": 342,
      "outputs": [
        {
          "output_type": "stream",
          "text": [
            "Epoch 1/50\n",
            "68/68 [==============================] - 7s 63ms/step - loss: 1.9033 - accuracy: 0.4008 - val_loss: 0.6937 - val_accuracy: 0.8452\n",
            "Epoch 2/50\n",
            "68/68 [==============================] - 3s 45ms/step - loss: 0.6592 - accuracy: 0.7819 - val_loss: 0.3458 - val_accuracy: 0.8810\n",
            "Epoch 3/50\n",
            "68/68 [==============================] - 3s 46ms/step - loss: 0.3675 - accuracy: 0.8524 - val_loss: 0.3879 - val_accuracy: 0.8750\n",
            "Epoch 4/50\n",
            "68/68 [==============================] - 3s 47ms/step - loss: 0.2534 - accuracy: 0.9100 - val_loss: 0.2905 - val_accuracy: 0.9226\n",
            "Epoch 5/50\n",
            "68/68 [==============================] - 3s 46ms/step - loss: 0.1640 - accuracy: 0.9443 - val_loss: 0.3228 - val_accuracy: 0.9167\n",
            "Epoch 6/50\n",
            "68/68 [==============================] - 3s 46ms/step - loss: 0.2101 - accuracy: 0.9219 - val_loss: 0.4848 - val_accuracy: 0.8690\n",
            "Epoch 7/50\n",
            "68/68 [==============================] - 3s 47ms/step - loss: 0.2790 - accuracy: 0.9046 - val_loss: 0.3176 - val_accuracy: 0.8988\n",
            "Epoch 8/50\n",
            "68/68 [==============================] - 3s 46ms/step - loss: 0.1801 - accuracy: 0.9368 - val_loss: 0.3618 - val_accuracy: 0.8988\n",
            "Epoch 9/50\n",
            "68/68 [==============================] - 3s 46ms/step - loss: 0.1683 - accuracy: 0.9378 - val_loss: 0.5307 - val_accuracy: 0.8810\n",
            "Epoch 10/50\n",
            "68/68 [==============================] - 3s 46ms/step - loss: 0.1496 - accuracy: 0.9488 - val_loss: 0.3852 - val_accuracy: 0.8988\n",
            "Epoch 11/50\n",
            "68/68 [==============================] - 3s 46ms/step - loss: 0.0698 - accuracy: 0.9791 - val_loss: 0.5076 - val_accuracy: 0.8988\n",
            "Epoch 12/50\n",
            "68/68 [==============================] - 3s 46ms/step - loss: 0.1765 - accuracy: 0.9413 - val_loss: 0.2910 - val_accuracy: 0.9226\n",
            "Epoch 13/50\n",
            "68/68 [==============================] - 3s 46ms/step - loss: 0.0915 - accuracy: 0.9757 - val_loss: 0.3109 - val_accuracy: 0.9167\n",
            "Epoch 14/50\n",
            "68/68 [==============================] - 3s 46ms/step - loss: 0.0730 - accuracy: 0.9757 - val_loss: 0.4802 - val_accuracy: 0.8750\n",
            "Epoch 15/50\n",
            "68/68 [==============================] - 3s 46ms/step - loss: 0.1063 - accuracy: 0.9538 - val_loss: 0.4463 - val_accuracy: 0.8988\n",
            "Epoch 16/50\n",
            "68/68 [==============================] - 3s 47ms/step - loss: 0.1053 - accuracy: 0.9590 - val_loss: 0.3472 - val_accuracy: 0.8988\n",
            "Epoch 17/50\n",
            "68/68 [==============================] - 3s 46ms/step - loss: 0.0593 - accuracy: 0.9835 - val_loss: 0.4537 - val_accuracy: 0.9107\n",
            "Epoch 18/50\n",
            "68/68 [==============================] - 3s 46ms/step - loss: 0.0516 - accuracy: 0.9877 - val_loss: 0.3227 - val_accuracy: 0.9107\n",
            "Epoch 19/50\n",
            "68/68 [==============================] - 3s 47ms/step - loss: 0.0610 - accuracy: 0.9819 - val_loss: 0.3322 - val_accuracy: 0.9167\n",
            "Epoch 20/50\n",
            "68/68 [==============================] - 3s 47ms/step - loss: 0.0677 - accuracy: 0.9731 - val_loss: 0.4739 - val_accuracy: 0.8810\n",
            "Epoch 21/50\n",
            "68/68 [==============================] - 3s 47ms/step - loss: 0.0592 - accuracy: 0.9773 - val_loss: 0.4681 - val_accuracy: 0.8869\n",
            "Epoch 22/50\n",
            "68/68 [==============================] - 3s 47ms/step - loss: 0.0696 - accuracy: 0.9807 - val_loss: 0.4403 - val_accuracy: 0.8988\n",
            "Epoch 23/50\n",
            "68/68 [==============================] - 3s 47ms/step - loss: 0.1092 - accuracy: 0.9645 - val_loss: 0.3924 - val_accuracy: 0.8869\n",
            "Epoch 24/50\n",
            "68/68 [==============================] - 3s 47ms/step - loss: 0.0927 - accuracy: 0.9654 - val_loss: 0.3705 - val_accuracy: 0.9167\n",
            "Epoch 25/50\n",
            "68/68 [==============================] - 3s 47ms/step - loss: 0.1345 - accuracy: 0.9615 - val_loss: 0.4075 - val_accuracy: 0.8929\n",
            "Epoch 26/50\n",
            "68/68 [==============================] - 3s 47ms/step - loss: 0.0675 - accuracy: 0.9899 - val_loss: 0.3738 - val_accuracy: 0.9107\n",
            "Epoch 27/50\n",
            "68/68 [==============================] - 3s 47ms/step - loss: 0.0701 - accuracy: 0.9751 - val_loss: 0.3955 - val_accuracy: 0.9226\n",
            "Epoch 28/50\n",
            "68/68 [==============================] - 3s 47ms/step - loss: 0.0575 - accuracy: 0.9832 - val_loss: 0.4764 - val_accuracy: 0.9048\n",
            "Epoch 29/50\n",
            "68/68 [==============================] - 3s 47ms/step - loss: 0.0469 - accuracy: 0.9835 - val_loss: 0.4336 - val_accuracy: 0.9048\n",
            "Epoch 30/50\n",
            "68/68 [==============================] - 3s 47ms/step - loss: 0.0461 - accuracy: 0.9847 - val_loss: 0.4897 - val_accuracy: 0.9048\n",
            "Epoch 31/50\n",
            "68/68 [==============================] - 3s 47ms/step - loss: 0.0526 - accuracy: 0.9815 - val_loss: 0.4758 - val_accuracy: 0.8988\n",
            "Epoch 32/50\n",
            "68/68 [==============================] - 3s 47ms/step - loss: 0.0673 - accuracy: 0.9839 - val_loss: 0.3666 - val_accuracy: 0.9048\n",
            "Epoch 33/50\n",
            "68/68 [==============================] - 3s 47ms/step - loss: 0.0318 - accuracy: 0.9883 - val_loss: 0.5657 - val_accuracy: 0.8810\n",
            "Epoch 34/50\n",
            "68/68 [==============================] - 3s 47ms/step - loss: 0.0717 - accuracy: 0.9784 - val_loss: 0.3505 - val_accuracy: 0.9405\n",
            "Epoch 35/50\n",
            "68/68 [==============================] - 3s 47ms/step - loss: 0.0581 - accuracy: 0.9735 - val_loss: 0.3397 - val_accuracy: 0.9226\n",
            "Epoch 36/50\n",
            "68/68 [==============================] - 3s 48ms/step - loss: 0.0215 - accuracy: 0.9965 - val_loss: 0.4150 - val_accuracy: 0.9107\n",
            "Epoch 37/50\n",
            "68/68 [==============================] - 3s 48ms/step - loss: 0.1185 - accuracy: 0.9547 - val_loss: 0.4556 - val_accuracy: 0.9167\n",
            "Epoch 38/50\n",
            "68/68 [==============================] - 3s 48ms/step - loss: 0.0335 - accuracy: 0.9816 - val_loss: 0.3903 - val_accuracy: 0.9167\n",
            "Epoch 39/50\n",
            "68/68 [==============================] - 3s 48ms/step - loss: 0.0249 - accuracy: 0.9956 - val_loss: 0.5093 - val_accuracy: 0.8988\n",
            "Epoch 40/50\n",
            "68/68 [==============================] - 3s 48ms/step - loss: 0.0687 - accuracy: 0.9825 - val_loss: 0.4027 - val_accuracy: 0.9345\n",
            "Epoch 41/50\n",
            "68/68 [==============================] - 3s 48ms/step - loss: 0.0220 - accuracy: 0.9956 - val_loss: 0.4470 - val_accuracy: 0.9167\n",
            "Epoch 42/50\n",
            "68/68 [==============================] - 3s 48ms/step - loss: 0.0421 - accuracy: 0.9889 - val_loss: 0.4406 - val_accuracy: 0.9464\n",
            "Epoch 43/50\n",
            "68/68 [==============================] - 3s 48ms/step - loss: 0.0234 - accuracy: 0.9944 - val_loss: 0.4605 - val_accuracy: 0.9107\n",
            "Epoch 44/50\n",
            "68/68 [==============================] - 3s 48ms/step - loss: 0.0784 - accuracy: 0.9762 - val_loss: 0.4839 - val_accuracy: 0.8988\n",
            "Epoch 45/50\n",
            "68/68 [==============================] - 3s 48ms/step - loss: 0.0527 - accuracy: 0.9855 - val_loss: 0.5623 - val_accuracy: 0.9048\n",
            "Epoch 46/50\n",
            "68/68 [==============================] - 3s 48ms/step - loss: 0.0699 - accuracy: 0.9802 - val_loss: 0.4174 - val_accuracy: 0.9286\n",
            "Epoch 47/50\n",
            "68/68 [==============================] - 3s 48ms/step - loss: 0.0541 - accuracy: 0.9839 - val_loss: 0.4897 - val_accuracy: 0.8869\n",
            "Epoch 48/50\n",
            "68/68 [==============================] - 3s 48ms/step - loss: 0.0686 - accuracy: 0.9708 - val_loss: 0.5112 - val_accuracy: 0.8810\n",
            "Epoch 49/50\n",
            "68/68 [==============================] - 3s 48ms/step - loss: 0.0655 - accuracy: 0.9784 - val_loss: 0.4989 - val_accuracy: 0.9048\n",
            "Epoch 50/50\n",
            "68/68 [==============================] - 3s 48ms/step - loss: 0.0784 - accuracy: 0.9747 - val_loss: 0.6319 - val_accuracy: 0.8750\n"
          ],
          "name": "stdout"
        }
      ]
    },
    {
      "cell_type": "code",
      "metadata": {
        "colab": {
          "base_uri": "https://localhost:8080/",
          "height": 499
        },
        "id": "OVD0YxtED6sd",
        "outputId": "ec40de6a-9d37-4971-dd33-2b309a378be7"
      },
      "source": [
        "accuracy = history.history['accuracy']\n",
        "val_accuracy = history.history['val_accuracy']\n",
        "\n",
        "epochs_range = range(epochs)\n",
        "\n",
        "plt.figure(figsize=(8, 8))\n",
        "plt.subplot(1, 2, 1)\n",
        "plt.plot(epochs_range, accuracy, label='Training Accuracy')\n",
        "plt.plot(epochs_range, val_accuracy, label='Validation Accuracy')\n",
        "plt.legend(loc='lower right')\n",
        "plt.title('Training and Validation Accuracy')\n",
        "\n",
        "plt.subplot(1, 2, 2)\n",
        "plt.plot(epochs_range, loss, label='Training Loss')\n",
        "plt.plot(epochs_range, val_loss, label='Validation Loss')\n",
        "plt.legend(loc='upper right')\n",
        "plt.title('Training and Validation Loss')\n",
        "plt.show()\n"
      ],
      "execution_count": 343,
      "outputs": [
        {
          "output_type": "display_data",
          "data": {
            "image/png": "[encoded data removed]",
            "text/plain": [
              "<Figure size 576x576 with 2 Axes>"
            ]
          },
          "metadata": {
            "tags": [],
            "needs_background": "light"
          }
        }
      ]
    },
    {
      "cell_type": "code",
      "metadata": {
        "colab": {
          "base_uri": "https://localhost:8080/"
        },
        "id": "YcY4XElYan2c",
        "outputId": "c112e348-dbdd-4a08-cf30-6685294a7320"
      },
      "source": [
        "#Gathering metrics\n",
        "\n",
        "\n",
        "\n",
        "val_ds = image_dataset_from_directory(\n",
        "  data_dir,\n",
        "  validation_split=0.2,\n",
        "  subset=\"validation\", \n",
        "  shuffle=True,\n",
        "  seed=123,\n",
        "  label_mode = \"categorical\" ,\n",
        "  image_size=(img_height, img_width),\n",
        "  batch_size=batch_size)\n",
        "\n",
        "test_model = tf.keras.models.load_model('/content/gdrive/My Drive/Kaggle/first_my_model_nostandard.h5')\n",
        "print(test_model.summary())\n",
        "\n",
        "test_eval = test_model.evaluate(val_ds)"
      ],
      "execution_count": 365,
      "outputs": [
        {
          "output_type": "stream",
          "text": [
            "Found 841 files belonging to 10 classes.\n",
            "Using 168 files for validation.\n",
            "Model: \"sequential_81\"\n",
            "_________________________________________________________________\n",
            "Layer (type)                 Output Shape              Param #   \n",
            "=================================================================\n",
            "sequential_79 (Sequential)   (None, 224, 224, 3)       0         \n",
            "_________________________________________________________________\n",
            "resnet50 (Functional)        (None, 2048)              23587712  \n",
            "_________________________________________________________________\n",
            "dropout_39 (Dropout)         (None, 2048)              0         \n",
            "_________________________________________________________________\n",
            "dense_53 (Dense)             (None, 128)               262272    \n",
            "_________________________________________________________________\n",
            "dense_54 (Dense)             (None, 10)                1290      \n",
            "=================================================================\n",
            "Total params: 23,851,274\n",
            "Trainable params: 263,562\n",
            "Non-trainable params: 23,587,712\n",
            "_________________________________________________________________\n",
            "None\n",
            "17/17 [==============================] - 2s 54ms/step - loss: 0.3076 - accuracy: 0.8929\n"
          ],
          "name": "stdout"
        }
      ]
    },
    {
      "cell_type": "code",
      "metadata": {
        "colab": {
          "base_uri": "https://localhost:8080/"
        },
        "id": "qsBD0yBFdRMw",
        "outputId": "da996cd5-4a87-445e-a108-0f5c0ae6edbe"
      },
      "source": [
        "preds = np.round(test_model.predict(val_ds), 0)\n",
        "\n",
        "print(val_ds.class_names)\n",
        "print(preds[0])\n"
      ],
      "execution_count": 369,
      "outputs": [
        {
          "output_type": "stream",
          "text": [
            "['beagle', 'chihuahua', 'doberman', 'french_bulldog', 'golden_retriever', 'malamute', 'pug', 'saint_bernard', 'scottish_deerhound', 'tibetan_mastiff']\n",
            "[0. 0. 0. 1. 0. 0. 0. 0. 0. 0.]\n"
          ],
          "name": "stdout"
        }
      ]
    }
  ]
}